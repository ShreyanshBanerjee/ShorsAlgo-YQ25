{
  "nbformat": 4,
  "nbformat_minor": 0,
  "metadata": {
    "colab": {
      "provenance": [],
      "toc_visible": true
    },
    "kernelspec": {
      "name": "python3",
      "display_name": "Python 3"
    },
    "language_info": {
      "name": "python"
    }
  },
  "cells": [
    {
      "cell_type": "code",
      "source": [
        "!pip install QuantumRingsLib\n",
        "!pip install quantumrings-toolkit-qiskit\n",
        "!pip install qiskit==1.4.1\n",
        "!pip install matplotlib"
      ],
      "metadata": {
        "id": "hinMLO0Z07Qf",
        "collapsed": true
      },
      "execution_count": null,
      "outputs": []
    },
    {
      "cell_type": "code",
      "source": [
        "from qiskit import QuantumCircuit, transpile, QuantumRegister, ClassicalRegister\n",
        "from qiskit.circuit.library import DraperQFTAdder, PhaseEstimation, QFT\n",
        "from qiskit.visualization import plot_histogram\n",
        "import QuantumRingsLib\n",
        "from QuantumRingsLib import QuantumRingsProvider\n",
        "from quantumrings.toolkit.qiskit import QrBackendV2\n",
        "from quantumrings.toolkit.qiskit import QrJobV1\n",
        "from IPython.display import clear_output\n",
        "from fractions import Fraction\n",
        "from math import log10, ceil\n",
        "import random\n",
        "import time\n",
        "import json"
      ],
      "metadata": {
        "id": "nDCElQwp0_Y5"
      },
      "execution_count": 3,
      "outputs": []
    },
    {
      "cell_type": "code",
      "source": [
        "#essential helping functions\n",
        "def euler_gcd(a, b):\n",
        "  while a != 0:\n",
        "    a, b = b % a, a\n",
        "  return b\n",
        "\n",
        "def toBinary(n, bits):\n",
        "  binary = []\n",
        "  for x in range(bits):\n",
        "    binary.append(n % 2)\n",
        "    n //= 2\n",
        "  binary.reverse()\n",
        "  return binary\n",
        "\n",
        "def fromBinary(n):\n",
        "  #this can take list of ints or a bitstring\n",
        "  sum = 0\n",
        "  for x in n:\n",
        "    sum = sum * 2 + int(x)\n",
        "  return sum\n",
        "\n",
        "def getGoodCoprime(n):\n",
        "  a = random.randint(2, n-1)\n",
        "  if euler_gcd(a, n) != 1:\n",
        "    return getGoodCoprime(n)\n",
        "  return a"
      ],
      "metadata": {
        "id": "vzESKghh1ElA"
      },
      "execution_count": 4,
      "outputs": []
    },
    {
      "cell_type": "code",
      "source": [
        "#--QUANTUM FUNCTIONS--#\n",
        "def QPE(a, N):\n",
        "  working_reg = QuantumRegister(bits, name='working')\n",
        "  control_reg = QuantumRegister(bits, name='control')\n",
        "\n",
        "  qc = QuantumCircuit(working_reg, control_reg, name=\"QPE\")\n",
        "\n",
        "  n = len(control_reg)\n",
        "  for i in range(n):\n",
        "    power=2**i\n",
        "    a_power=pow(a,power, N)\n",
        "    for j in range(len(working_reg)):\n",
        "      if(a_power>>j)&1:\n",
        "        qc.cx(working_reg[i],control_reg[j])\n",
        "\n",
        "  return qc\n",
        "\n",
        "def build_shors_circuit(a, n):\n",
        "  working_reg = QuantumRegister(bits, name='working')\n",
        "  control_reg = QuantumRegister(bits, name='control')\n",
        "  out_reg = ClassicalRegister(bits, name='out')\n",
        "\n",
        "  qc = QuantumCircuit(working_reg, control_reg, out_reg)\n",
        "\n",
        "  qc.h(working_reg)\n",
        "  qc.h(control_reg)\n",
        "\n",
        "  qc.append(QPE(a, n).to_gate(), [*working_reg, *control_reg])\n",
        "  qc.append(QFT(bits, do_swaps=False).inverse(), control_reg)\n",
        "\n",
        "  qc.measure(working_reg, out_reg)\n",
        "\n",
        "  return qc\n",
        "\n",
        "def run(qc, shots):\n",
        "  qr_provider = QuantumRingsProvider(token =\"[REDACTED]\", name=\"[REDACTED]\")\n",
        "  mybackend = QrBackendV2(qr_provider, num_qubits = qc.num_qubits)\n",
        "  qc_transpiled = transpile(qc, mybackend, initial_layout=[i for i in range(0, qc.num_qubits)])\n",
        "  job = mybackend.run(qc_transpiled, shots = shots)\n",
        "  result = job.result()\n",
        "  return result.get_counts()"
      ],
      "metadata": {
        "id": "cBcFFzWW1Ukw"
      },
      "execution_count": 5,
      "outputs": []
    },
    {
      "cell_type": "code",
      "source": [
        "#--CLASSICAL POSTPROCESSING--#\n",
        "def shors_postprocess(resultVal, a):\n",
        "  r = Fraction(resultVal, 2**bits).limit_denominator(n).denominator # N = the number you're factoring\n",
        "\n",
        "  if r % 2 == 0:\n",
        "    x = pow(a, int(r/2),n) #the third argument changes the way exponentiation is done here\n",
        "                           #it does a^(r/2) mod n, which does not modify the results in the end\n",
        "                           #while keeping the values from overflowing\n",
        "    val1 = euler_gcd(n, x-1)\n",
        "    val2 = euler_gcd(n, x+1)\n",
        "\n",
        "    if (val1 != 1 and val1 != n):\n",
        "      return (val1, n/val1)\n",
        "    elif (val2 != 1 and val1 != n):\n",
        "      return (val2, n/val2)\n",
        "  return False #failed post-process"
      ],
      "metadata": {
        "id": "Ose6b-ka6NDJ"
      },
      "execution_count": 6,
      "outputs": []
    },
    {
      "cell_type": "code",
      "source": [
        "#--VARIABLES--#\n",
        "n = int(input(\"Enter Semiprime to factor: \"))\n",
        "bits = ceil(log10(n) / log10(2))\n",
        "if bits > 100:\n",
        "  raise ValueError(f\"Semiprime to factor must be < 2^100, recieved {n}\")\n",
        "else:\n",
        "  print(f\"Using {2*bits} total qubits\")\n",
        "\n",
        "benchmark = False #if true, benchmarking occurs\n",
        "                  #program runs 15 iterations of Shor's algo for N\n",
        "                  #and prints to the console the avg time and avg attempts"
      ],
      "metadata": {
        "id": "quMaMylw1GQi"
      },
      "execution_count": null,
      "outputs": []
    },
    {
      "cell_type": "code",
      "source": [
        "%matplotlib inline\n",
        "#--TYING IT ALL TOGETHER--#\n",
        "def runOneShor(n):\n",
        "  attempts = 0\n",
        "  found_factors = False\n",
        "  start = time.time()\n",
        "\n",
        "  while found_factors == False:\n",
        "    attempts += 1\n",
        "    a = getGoodCoprime(n)\n",
        "    clear_output(wait=True)\n",
        "    print(f\"Attempt {attempts} - trying a={a}\")\n",
        "    counts = run(build_shors_circuit(a, n), 1)\n",
        "    resultVal = fromBinary(list(counts.keys())[0])\n",
        "    found_factors = shors_postprocess(resultVal, a)\n",
        "  print(f\"Factors found: {found_factors}\")\n",
        "  return (attempts, time.time() - start, found_factors)\n",
        "\n",
        "def benchmark15(n):\n",
        "  average_attempts = 0\n",
        "  average_time = 0\n",
        "\n",
        "  for i in range(15):\n",
        "    data = runOneShor(n)\n",
        "    average_attempts += data[0]\n",
        "    average_time += data[1]\n",
        "  average_attempts /= 15\n",
        "  average_time /= 15\n",
        "  return average_attempts, average_time\n",
        "\n",
        "if benchmark:\n",
        "  x, y = benchmark15(n)\n",
        "  print(f\"Benchmark Data for N={n}\")\n",
        "  print(f\"\\tAverage Attempts: {x}\")\n",
        "  print(f\"\\tAverage Time: {y}s\")\n",
        "else:\n",
        "  data = runOneShor(n)\n",
        "  print(f\"Total Attempts: {data[0]}\")\n",
        "  print(f\"Time: {data[1]}s\")"
      ],
      "metadata": {
        "collapsed": true,
        "id": "d0ptvpSF1WzE"
      },
      "execution_count": null,
      "outputs": []
    },
    {
      "cell_type": "markdown",
      "source": [
        "Just some benchmarks of the current performance. The average time is with IO operations, so in reality it may even be around a second faster.  \n",
        "The averages are taken from 15 different runs of the Shor's algorithm on N (running only one job)\n",
        "\n",
        "| N    | Total Qubits | Avg Attempts | Average Time |\n",
        "|------|--------------|--------------|--------------|\n",
        "|15    | 8            | 13.9         | 3.80s        |\n",
        "|143   | 16           | 4.5          | 1.72s        |\n",
        "|899   | 20           | 7.7          | 2.49s        |\n",
        "|3127  | 24           | 10.8         | 4.42s        |\n",
        "|11009 | 28           | 22.6         | 8.91s        |\n",
        "|47053 | 32           | 35.4         | 14.7s        |\n",
        "\n",
        "\n",
        "After 47053 it starts to take quite a while to run 15 iterations of Shor's for sucessive semiprimes, so I stopped benchmarking the primes after.\n",
        "\n",
        "Highest semiprime factored successfully (so far): 11426971  "
      ],
      "metadata": {
        "id": "gHAmNw18AGHE"
      }
    }
  ]
}
