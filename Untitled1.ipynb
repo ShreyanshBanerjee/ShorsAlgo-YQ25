{
  "nbformat": 4,
  "nbformat_minor": 0,
  "metadata": {
    "colab": {
      "provenance": [],
      "toc_visible": true
    },
    "kernelspec": {
      "name": "python3",
      "display_name": "Python 3"
    },
    "language_info": {
      "name": "python"
    }
  },
  "cells": [
    {
      "cell_type": "code",
      "source": [
        "!pip install QuantumRingsLib\n",
        "!pip install quantumrings-toolkit-qiskit\n",
        "!pip install qiskit==1.4.1\n",
        "!pip install matplotlib"
      ],
      "metadata": {
        "colab": {
          "base_uri": "https://localhost:8080/",
          "height": 0
        },
        "id": "hinMLO0Z07Qf",
        "outputId": "d9442877-938a-4b3b-b165-35ed8ed6e37b",
        "collapsed": true
      },
      "execution_count": 2,
      "outputs": [
        {
          "output_type": "stream",
          "name": "stdout",
          "text": [
            "Requirement already satisfied: QuantumRingsLib in /usr/local/lib/python3.11/dist-packages (0.9.11)\n",
            "Requirement already satisfied: quantumrings-toolkit-qiskit in /usr/local/lib/python3.11/dist-packages (0.1.10)\n",
            "Requirement already satisfied: numpy in /usr/local/lib/python3.11/dist-packages (from quantumrings-toolkit-qiskit) (2.0.2)\n",
            "Requirement already satisfied: qiskit in /usr/local/lib/python3.11/dist-packages (from quantumrings-toolkit-qiskit) (1.4.1)\n",
            "Requirement already satisfied: QuantumRingsLib in /usr/local/lib/python3.11/dist-packages (from quantumrings-toolkit-qiskit) (0.9.11)\n",
            "Requirement already satisfied: rustworkx>=0.15.0 in /usr/local/lib/python3.11/dist-packages (from qiskit->quantumrings-toolkit-qiskit) (0.16.0)\n",
            "Requirement already satisfied: scipy>=1.5 in /usr/local/lib/python3.11/dist-packages (from qiskit->quantumrings-toolkit-qiskit) (1.14.1)\n",
            "Requirement already satisfied: sympy>=1.3 in /usr/local/lib/python3.11/dist-packages (from qiskit->quantumrings-toolkit-qiskit) (1.13.1)\n",
            "Requirement already satisfied: dill>=0.3 in /usr/local/lib/python3.11/dist-packages (from qiskit->quantumrings-toolkit-qiskit) (0.3.9)\n",
            "Requirement already satisfied: python-dateutil>=2.8.0 in /usr/local/lib/python3.11/dist-packages (from qiskit->quantumrings-toolkit-qiskit) (2.8.2)\n",
            "Requirement already satisfied: stevedore>=3.0.0 in /usr/local/lib/python3.11/dist-packages (from qiskit->quantumrings-toolkit-qiskit) (5.4.1)\n",
            "Requirement already satisfied: typing-extensions in /usr/local/lib/python3.11/dist-packages (from qiskit->quantumrings-toolkit-qiskit) (4.13.1)\n",
            "Requirement already satisfied: symengine<0.14,>=0.11 in /usr/local/lib/python3.11/dist-packages (from qiskit->quantumrings-toolkit-qiskit) (0.13.0)\n",
            "Requirement already satisfied: six>=1.5 in /usr/local/lib/python3.11/dist-packages (from python-dateutil>=2.8.0->qiskit->quantumrings-toolkit-qiskit) (1.17.0)\n",
            "Requirement already satisfied: pbr>=2.0.0 in /usr/local/lib/python3.11/dist-packages (from stevedore>=3.0.0->qiskit->quantumrings-toolkit-qiskit) (6.1.1)\n",
            "Requirement already satisfied: mpmath<1.4,>=1.1.0 in /usr/local/lib/python3.11/dist-packages (from sympy>=1.3->qiskit->quantumrings-toolkit-qiskit) (1.3.0)\n",
            "Requirement already satisfied: setuptools in /usr/local/lib/python3.11/dist-packages (from pbr>=2.0.0->stevedore>=3.0.0->qiskit->quantumrings-toolkit-qiskit) (75.2.0)\n",
            "Requirement already satisfied: qiskit==1.4.1 in /usr/local/lib/python3.11/dist-packages (1.4.1)\n",
            "Requirement already satisfied: rustworkx>=0.15.0 in /usr/local/lib/python3.11/dist-packages (from qiskit==1.4.1) (0.16.0)\n",
            "Requirement already satisfied: numpy<3,>=1.17 in /usr/local/lib/python3.11/dist-packages (from qiskit==1.4.1) (2.0.2)\n",
            "Requirement already satisfied: scipy>=1.5 in /usr/local/lib/python3.11/dist-packages (from qiskit==1.4.1) (1.14.1)\n",
            "Requirement already satisfied: sympy>=1.3 in /usr/local/lib/python3.11/dist-packages (from qiskit==1.4.1) (1.13.1)\n",
            "Requirement already satisfied: dill>=0.3 in /usr/local/lib/python3.11/dist-packages (from qiskit==1.4.1) (0.3.9)\n",
            "Requirement already satisfied: python-dateutil>=2.8.0 in /usr/local/lib/python3.11/dist-packages (from qiskit==1.4.1) (2.8.2)\n",
            "Requirement already satisfied: stevedore>=3.0.0 in /usr/local/lib/python3.11/dist-packages (from qiskit==1.4.1) (5.4.1)\n",
            "Requirement already satisfied: typing-extensions in /usr/local/lib/python3.11/dist-packages (from qiskit==1.4.1) (4.13.1)\n",
            "Requirement already satisfied: symengine<0.14,>=0.11 in /usr/local/lib/python3.11/dist-packages (from qiskit==1.4.1) (0.13.0)\n",
            "Requirement already satisfied: six>=1.5 in /usr/local/lib/python3.11/dist-packages (from python-dateutil>=2.8.0->qiskit==1.4.1) (1.17.0)\n",
            "Requirement already satisfied: pbr>=2.0.0 in /usr/local/lib/python3.11/dist-packages (from stevedore>=3.0.0->qiskit==1.4.1) (6.1.1)\n",
            "Requirement already satisfied: mpmath<1.4,>=1.1.0 in /usr/local/lib/python3.11/dist-packages (from sympy>=1.3->qiskit==1.4.1) (1.3.0)\n",
            "Requirement already satisfied: setuptools in /usr/local/lib/python3.11/dist-packages (from pbr>=2.0.0->stevedore>=3.0.0->qiskit==1.4.1) (75.2.0)\n",
            "Requirement already satisfied: matplotlib in /usr/local/lib/python3.11/dist-packages (3.10.0)\n",
            "Requirement already satisfied: contourpy>=1.0.1 in /usr/local/lib/python3.11/dist-packages (from matplotlib) (1.3.1)\n",
            "Requirement already satisfied: cycler>=0.10 in /usr/local/lib/python3.11/dist-packages (from matplotlib) (0.12.1)\n",
            "Requirement already satisfied: fonttools>=4.22.0 in /usr/local/lib/python3.11/dist-packages (from matplotlib) (4.57.0)\n",
            "Requirement already satisfied: kiwisolver>=1.3.1 in /usr/local/lib/python3.11/dist-packages (from matplotlib) (1.4.8)\n",
            "Requirement already satisfied: numpy>=1.23 in /usr/local/lib/python3.11/dist-packages (from matplotlib) (2.0.2)\n",
            "Requirement already satisfied: packaging>=20.0 in /usr/local/lib/python3.11/dist-packages (from matplotlib) (24.2)\n",
            "Requirement already satisfied: pillow>=8 in /usr/local/lib/python3.11/dist-packages (from matplotlib) (11.1.0)\n",
            "Requirement already satisfied: pyparsing>=2.3.1 in /usr/local/lib/python3.11/dist-packages (from matplotlib) (3.2.3)\n",
            "Requirement already satisfied: python-dateutil>=2.7 in /usr/local/lib/python3.11/dist-packages (from matplotlib) (2.8.2)\n",
            "Requirement already satisfied: six>=1.5 in /usr/local/lib/python3.11/dist-packages (from python-dateutil>=2.7->matplotlib) (1.17.0)\n"
          ]
        }
      ]
    },
    {
      "cell_type": "code",
      "source": [
        "from qiskit import QuantumCircuit, transpile, QuantumRegister, ClassicalRegister\n",
        "from qiskit.circuit.library import DraperQFTAdder, PhaseEstimation, QFT\n",
        "from qiskit.visualization import plot_histogram\n",
        "import QuantumRingsLib\n",
        "from QuantumRingsLib import QuantumRingsProvider\n",
        "from quantumrings.toolkit.qiskit import QrBackendV2\n",
        "from quantumrings.toolkit.qiskit import QrJobV1\n",
        "from IPython.display import clear_output\n",
        "from fractions import Fraction\n",
        "from math import log10, ceil\n",
        "import random\n",
        "import time\n",
        "import json"
      ],
      "metadata": {
        "id": "nDCElQwp0_Y5"
      },
      "execution_count": 3,
      "outputs": []
    },
    {
      "cell_type": "code",
      "source": [
        "#essential helping functions\n",
        "def euler_gcd(a, b):\n",
        "  while a != 0:\n",
        "    a, b = b % a, a\n",
        "  return b\n",
        "\n",
        "def toBinary(n, bits):\n",
        "  binary = []\n",
        "  for x in range(bits):\n",
        "    binary.append(n % 2)\n",
        "    n //= 2\n",
        "  binary.reverse()\n",
        "  return binary\n",
        "\n",
        "def fromBinary(n):\n",
        "  #this can take list of ints or a bitstring\n",
        "  sum = 0\n",
        "  for x in n:\n",
        "    sum = sum * 2 + int(x)\n",
        "  return sum\n",
        "\n",
        "def getGoodCoprime(n):\n",
        "  a = random.randint(2, n-1)\n",
        "  if euler_gcd(a, n) != 1:\n",
        "    return getGoodCoprime(n)\n",
        "  return a"
      ],
      "metadata": {
        "id": "vzESKghh1ElA"
      },
      "execution_count": 4,
      "outputs": []
    },
    {
      "cell_type": "code",
      "source": [
        "#--QUANTUM FUNCTIONS--#\n",
        "def QPE(a, N):\n",
        "  working_reg = QuantumRegister(bits, name='working')\n",
        "  control_reg = QuantumRegister(bits, name='control')\n",
        "\n",
        "  qc = QuantumCircuit(working_reg, control_reg, name=\"QPE\")\n",
        "\n",
        "  n = len(control_reg)\n",
        "  for i in range(n):\n",
        "    power=2**i\n",
        "    a_power=pow(a,power, N)\n",
        "    for j in range(len(working_reg)):\n",
        "      if(a_power>>j)&1:\n",
        "        qc.cx(working_reg[i],control_reg[j])\n",
        "\n",
        "  return qc\n",
        "\n",
        "def build_shors_circuit(a, n):\n",
        "  working_reg = QuantumRegister(bits, name='working')\n",
        "  control_reg = QuantumRegister(bits, name='control')\n",
        "  out_reg = ClassicalRegister(bits, name='out')\n",
        "\n",
        "  qc = QuantumCircuit(working_reg, control_reg, out_reg)\n",
        "\n",
        "  qc.h(working_reg)\n",
        "  qc.h(control_reg)\n",
        "\n",
        "  qc.append(QPE(a, n).to_gate(), [*working_reg, *control_reg])\n",
        "  qc.append(QFT(bits, do_swaps=False).inverse(), control_reg)\n",
        "\n",
        "  qc.measure(working_reg, out_reg)\n",
        "\n",
        "  return qc\n",
        "\n",
        "def run(qc, shots):\n",
        "  qr_provider = QuantumRingsProvider(token =\"rings-200.inm2AQBhP6HljeZBxhFso18iyRr9F8ZX\", name=\"manyatapathania@gmail.com\")\n",
        "  mybackend = QrBackendV2(qr_provider, num_qubits = qc.num_qubits)\n",
        "  qc_transpiled = transpile(qc, mybackend, initial_layout=[i for i in range(0, qc.num_qubits)])\n",
        "  job = mybackend.run(qc_transpiled, shots = shots)\n",
        "  result = job.result()\n",
        "  return result.get_counts()"
      ],
      "metadata": {
        "id": "cBcFFzWW1Ukw"
      },
      "execution_count": 5,
      "outputs": []
    },
    {
      "cell_type": "code",
      "source": [
        "#--CLASSICAL POSTPROCESSING--#\n",
        "def shors_postprocess(resultVal, a):\n",
        "  r = Fraction(resultVal, 2**bits).limit_denominator(n).denominator # N = the number you're factoring\n",
        "\n",
        "  if r % 2 == 0:\n",
        "    x = pow(a, int(r/2),n) #the third argument changes the way exponentiation is done here\n",
        "                           #it does a^(r/2) mod n, which does not modify the results in the end\n",
        "                           #while keeping the values from overflowing\n",
        "    val1 = euler_gcd(n, x-1)\n",
        "    val2 = euler_gcd(n, x+1)\n",
        "\n",
        "    if (val1 != 1 and val1 != n):\n",
        "      return (val1, n/val1)\n",
        "    elif (val2 != 1 and val1 != n):\n",
        "      return (val2, n/val2)\n",
        "  return False #failed post-process"
      ],
      "metadata": {
        "id": "Ose6b-ka6NDJ"
      },
      "execution_count": 6,
      "outputs": []
    },
    {
      "cell_type": "code",
      "source": [
        "#--VARIABLES--#\n",
        "n = int(input(\"Enter Semiprime to factor: \"))\n",
        "bits = ceil(log10(n) / log10(2))\n",
        "if bits > 100:\n",
        "  raise ValueError(f\"Semiprime to factor must be < 2^100, recieved {n}\")\n",
        "else:\n",
        "  print(f\"Using {2*bits} total qubits\")\n",
        "\n",
        "benchmark = False #if true, benchmarking occurs\n",
        "                  #program runs 15 iterations of Shor's algo for N\n",
        "                  #and prints to the console the avg time and avg attempts"
      ],
      "metadata": {
        "colab": {
          "base_uri": "https://localhost:8080/",
          "height": 0
        },
        "id": "quMaMylw1GQi",
        "outputId": "ce3ed36a-9cc1-431d-ffa8-0a623897cbff"
      },
      "execution_count": 7,
      "outputs": [
        {
          "output_type": "stream",
          "name": "stdout",
          "text": [
            "Enter Semiprime to factor: 11426971\n",
            "Using 48 total qubits\n"
          ]
        }
      ]
    },
    {
      "cell_type": "code",
      "source": [
        "%matplotlib inline\n",
        "#--TYING IT ALL TOGETHER--#\n",
        "def runOneShor(n):\n",
        "  attempts = 0\n",
        "  found_factors = False\n",
        "  start = time.time()\n",
        "\n",
        "  while found_factors == False:\n",
        "    attempts += 1\n",
        "    a = getGoodCoprime(n)\n",
        "    clear_output(wait=True)\n",
        "    print(f\"Attempt {attempts} - trying a={a}\")\n",
        "    counts = run(build_shors_circuit(a, n), 1)\n",
        "    resultVal = fromBinary(list(counts.keys())[0])\n",
        "    found_factors = shors_postprocess(resultVal, a)\n",
        "  print(f\"Factors found: {found_factors}\")\n",
        "  return (attempts, time.time() - start, found_factors)\n",
        "\n",
        "def benchmark15(n):\n",
        "  average_attempts = 0\n",
        "  average_time = 0\n",
        "\n",
        "  for i in range(15):\n",
        "    data = runOneShor(n)\n",
        "    average_attempts += data[0]\n",
        "    average_time += data[1]\n",
        "  average_attempts /= 15\n",
        "  average_time /= 15\n",
        "  return average_attempts, average_time\n",
        "\n",
        "if benchmark:\n",
        "  x, y = benchmark15(n)\n",
        "  print(f\"Benchmark Data for N={n}\")\n",
        "  print(f\"\\tAverage Attempts: {x}\")\n",
        "  print(f\"\\tAverage Time: {y}s\")\n",
        "else:\n",
        "  data = runOneShor(n)\n",
        "  print(f\"Total Attempts: {data[0]}\")\n",
        "  print(f\"Time: {data[1]}s\")"
      ],
      "metadata": {
        "colab": {
          "base_uri": "https://localhost:8080/",
          "height": 0
        },
        "collapsed": true,
        "id": "d0ptvpSF1WzE",
        "outputId": "aaaa976d-9eea-4a92-a4a6-55dfe8f2d8eb"
      },
      "execution_count": 8,
      "outputs": [
        {
          "output_type": "stream",
          "name": "stdout",
          "text": [
            "Attempt 19 - trying a=9447042\n",
            "Factors found: (3581, 3191.0)\n",
            "Total Attempts: 19\n",
            "Time: 11.834946393966675s\n"
          ]
        }
      ]
    },
    {
      "cell_type": "markdown",
      "source": [
        "Just some benchmarks of the current performance. The average time is with IO operations, so in reality it may even be around a second faster.  \n",
        "The averages are taken from 15 different runs of the Shor's algorithm on N (running only one job)\n",
        "\n",
        "| N    | Total Qubits | Avg Attempts | Average Time |\n",
        "|------|--------------|--------------|--------------|\n",
        "|15    | 8            | 13.9         | 3.80s        |\n",
        "|143   | 16           | 4.5          | 1.72s        |\n",
        "|899   | 20           | 7.7          | 2.49s        |\n",
        "|3127  | 24           | 10.8         | 4.42s        |\n",
        "|11009 | 28           | 22.6         | 8.91s        |\n",
        "|47053 | 32           | 35.4         | 14.7s        |\n",
        "\n",
        "\n",
        "After 47053 it starts to take quite a while to run 15 iterations of Shor's for sucessive semiprimes, so I stopped benchmarking the primes after.\n",
        "\n",
        "Highest semiprime factored successfully (so far): 11426971  "
      ],
      "metadata": {
        "id": "gHAmNw18AGHE"
      }
    },
    {
      "cell_type": "code",
      "source": [],
      "metadata": {
        "id": "OIihA9OKVPSj",
        "colab": {
          "base_uri": "https://localhost:8080/"
        },
        "outputId": "22ec6851-4f5e-4599-c125-768087bc1722"
      },
      "execution_count": 36,
      "outputs": [
        {
          "output_type": "stream",
          "name": "stdout",
          "text": [
            "Host key verification failed.\r\n",
            "fatal: Could not read from remote repository.\n",
            "\n",
            "Please make sure you have the correct access rights\n",
            "and the repository exists.\n"
          ]
        }
      ]
    }
  ]
}